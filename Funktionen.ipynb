{
 "cells": [
  {
   "cell_type": "markdown",
   "metadata": {},
   "source": [
    "# Funktionen\n",
    "\n",
    "Dry - Don't repeat your self\n",
    "\n"
   ]
  },
  {
   "cell_type": "code",
   "execution_count": 54,
   "metadata": {},
   "outputs": [
    {
     "name": "stdout",
     "output_type": "stream",
     "text": [
      "Blub\n"
     ]
    }
   ],
   "source": [
    "# bisher Genutzte Funktionen\n",
    "print (\"Blub\")"
   ]
  },
  {
   "cell_type": "code",
   "execution_count": 2,
   "metadata": {},
   "outputs": [
    {
     "data": {
      "text/plain": [
       "str"
      ]
     },
     "execution_count": 2,
     "metadata": {},
     "output_type": "execute_result"
    }
   ],
   "source": [
    "type (\"plub\")"
   ]
  },
  {
   "cell_type": "code",
   "execution_count": 3,
   "metadata": {},
   "outputs": [],
   "source": [
    "my_string = \"Blub\""
   ]
  },
  {
   "cell_type": "code",
   "execution_count": 5,
   "metadata": {},
   "outputs": [
    {
     "data": {
      "text/plain": [
       "'BLUB'"
      ]
     },
     "execution_count": 5,
     "metadata": {},
     "output_type": "execute_result"
    }
   ],
   "source": [
    "# Methoden (spezielle Funktionen die an Objekte geknüpft sind)\n",
    "my_string.upper()"
   ]
  },
  {
   "cell_type": "code",
   "execution_count": 17,
   "metadata": {},
   "outputs": [
    {
     "ename": "SyntaxError",
     "evalue": "invalid syntax (<ipython-input-17-3fb10f7a4637>, line 4)",
     "output_type": "error",
     "traceback": [
      "\u001b[1;36m  File \u001b[1;32m\"<ipython-input-17-3fb10f7a4637>\"\u001b[1;36m, line \u001b[1;32m4\u001b[0m\n\u001b[1;33m    Requiement for an ISBN\u001b[0m\n\u001b[1;37m               ^\u001b[0m\n\u001b[1;31mSyntaxError\u001b[0m\u001b[1;31m:\u001b[0m invalid syntax\n"
     ]
    }
   ],
   "source": [
    "'Blub'\n",
    "\n",
    "\n",
    "Requiement for an ISBN\n",
    "- An ISBN should be 17 character long\n",
    "- An ISBN should have 4 dashes\n",
    "- An ISBN should only contain dashes and numbers"
   ]
  },
  {
   "cell_type": "code",
   "execution_count": 7,
   "metadata": {},
   "outputs": [],
   "source": [
    "# Liste mit ISBNs - zum testen\n",
    "potential_isbns = [\"978-3-86226-468-5\", # proper ISBN\n",
    "                   \"AB-423-2343\", # not a proper ISBN\n",
    "                   \"978-3-XXXXX-468-5\"] # not a proper ISBN but pretty close\n"
   ]
  },
  {
   "cell_type": "code",
   "execution_count": 8,
   "metadata": {},
   "outputs": [],
   "source": [
    "isbn_1 = potential_isbns[0] "
   ]
  },
  {
   "cell_type": "code",
   "execution_count": 9,
   "metadata": {},
   "outputs": [
    {
     "data": {
      "text/plain": [
       "'978-3-86226-468-5'"
      ]
     },
     "execution_count": 9,
     "metadata": {},
     "output_type": "execute_result"
    }
   ],
   "source": [
    "isbn_1"
   ]
  },
  {
   "cell_type": "code",
   "execution_count": 55,
   "metadata": {},
   "outputs": [],
   "source": [
    "# Erste definition mit nur strings und ...\n",
    "def is_isbn():\n",
    "    print (\"testing of correct ISBN\")"
   ]
  },
  {
   "cell_type": "code",
   "execution_count": 14,
   "metadata": {},
   "outputs": [
    {
     "name": "stdout",
     "output_type": "stream",
     "text": [
      "testing of correct ISBN\n"
     ]
    }
   ],
   "source": [
    "#Definiere die Funktion\n",
    "def is_isbn():\n",
    "    print (\"testing of correct ISBN\")\n",
    "    \n",
    "# Call the funktion\n",
    "is_isbn()"
   ]
  },
  {
   "cell_type": "code",
   "execution_count": 18,
   "metadata": {},
   "outputs": [
    {
     "name": "stdout",
     "output_type": "stream",
     "text": [
      "Ist eine ISBN\n"
     ]
    }
   ],
   "source": [
    "def is_isbn():\n",
    "    isbn = '978-3-86226-468-5'\n",
    "    if len (isbn) == 17:\n",
    "        print (\"Ist eine ISBN\")\n",
    "    else:\n",
    "        print (\"Ist keine ISBN\")\n",
    "        \n",
    "is_isbn()"
   ]
  },
  {
   "cell_type": "code",
   "execution_count": 57,
   "metadata": {},
   "outputs": [
    {
     "data": {
      "text/plain": [
       "17"
      ]
     },
     "execution_count": 57,
     "metadata": {},
     "output_type": "execute_result"
    }
   ],
   "source": [
    "# Länge eines Strings\n",
    "len(\"Ein langer String\")"
   ]
  },
  {
   "cell_type": "code",
   "execution_count": 22,
   "metadata": {},
   "outputs": [
    {
     "name": "stdout",
     "output_type": "stream",
     "text": [
      "Ist eine ISBN\n"
     ]
    }
   ],
   "source": [
    "def is_isbn():\n",
    "    isbn = '978-3-86226-468-5'\n",
    "    if len (isbn) != 17:\n",
    "        print (\"Ist keine ISBN\")\n",
    "    else:\n",
    "        print (\"Ist eine ISBN\")\n",
    "        \n",
    "is_isbn()"
   ]
  },
  {
   "cell_type": "code",
   "execution_count": 34,
   "metadata": {},
   "outputs": [
    {
     "data": {
      "text/plain": [
       "False"
      ]
     },
     "execution_count": 34,
     "metadata": {},
     "output_type": "execute_result"
    }
   ],
   "source": [
    "18 != 18"
   ]
  },
  {
   "cell_type": "code",
   "execution_count": 46,
   "metadata": {},
   "outputs": [
    {
     "data": {
      "text/plain": [
       "True"
      ]
     },
     "execution_count": 46,
     "metadata": {},
     "output_type": "execute_result"
    }
   ],
   "source": [
    "10 == 10"
   ]
  },
  {
   "cell_type": "code",
   "execution_count": 21,
   "metadata": {},
   "outputs": [
    {
     "name": "stdout",
     "output_type": "stream",
     "text": [
      "The Book is called 'Biology 101'.\n"
     ]
    }
   ],
   "source": [
    "#Detour - strings & quotes\n",
    "print (\"The Book is called 'Biology 101'.\")"
   ]
  },
  {
   "cell_type": "code",
   "execution_count": 23,
   "metadata": {},
   "outputs": [
    {
     "name": "stdout",
     "output_type": "stream",
     "text": [
      "Ist eine ISBN\n"
     ]
    }
   ],
   "source": [
    "def is_isbn():\n",
    "    isbn = '978-3-86226-468-5'\n",
    "    if len (isbn) != 17:\n",
    "        print (\"Ist keine ISBN\")\n",
    "    else:\n",
    "        print (\"Ist eine ISBN\")\n",
    "        \n",
    "is_isbn()"
   ]
  },
  {
   "cell_type": "code",
   "execution_count": 24,
   "metadata": {},
   "outputs": [
    {
     "ename": "TypeError",
     "evalue": "is_isbn() missing 1 required positional argument: 'isbn'",
     "output_type": "error",
     "traceback": [
      "\u001b[1;31m---------------------------------------------------------------------------\u001b[0m",
      "\u001b[1;31mTypeError\u001b[0m                                 Traceback (most recent call last)",
      "\u001b[1;32m<ipython-input-24-a95a1738f962>\u001b[0m in \u001b[0;36m<module>\u001b[1;34m\u001b[0m\n\u001b[0;32m      5\u001b[0m         \u001b[0mprint\u001b[0m \u001b[1;33m(\u001b[0m\u001b[1;34m\"Ist eine ISBN\"\u001b[0m\u001b[1;33m)\u001b[0m\u001b[1;33m\u001b[0m\u001b[1;33m\u001b[0m\u001b[0m\n\u001b[0;32m      6\u001b[0m \u001b[1;33m\u001b[0m\u001b[0m\n\u001b[1;32m----> 7\u001b[1;33m \u001b[0mis_isbn\u001b[0m\u001b[1;33m(\u001b[0m\u001b[1;33m)\u001b[0m\u001b[1;33m\u001b[0m\u001b[1;33m\u001b[0m\u001b[0m\n\u001b[0m",
      "\u001b[1;31mTypeError\u001b[0m: is_isbn() missing 1 required positional argument: 'isbn'"
     ]
    }
   ],
   "source": [
    "def is_isbn(isbn):\n",
    "    if len (isbn) != 17:\n",
    "        print (\"Ist keine ISBN\")\n",
    "    else:\n",
    "        print (\"Ist eine ISBN\")\n",
    "        \n",
    "is_isbn()"
   ]
  },
  {
   "cell_type": "code",
   "execution_count": 25,
   "metadata": {},
   "outputs": [
    {
     "name": "stdout",
     "output_type": "stream",
     "text": [
      "Ist eine ISBN\n"
     ]
    }
   ],
   "source": [
    "def is_isbn(isbn):\n",
    "    if len (isbn) != 17:\n",
    "        print (\"Ist keine ISBN\")\n",
    "    else:\n",
    "        print (\"Ist eine ISBN\")\n",
    "        \n",
    "is_isbn('978-3-86226-468-5')"
   ]
  },
  {
   "cell_type": "code",
   "execution_count": 26,
   "metadata": {},
   "outputs": [
    {
     "name": "stdout",
     "output_type": "stream",
     "text": [
      "Ist eine ISBN\n",
      "Ist keine ISBN\n"
     ]
    }
   ],
   "source": [
    "\n",
    "is_isbn('978-3-86226-468-5')\n",
    "is_isbn('blub')"
   ]
  },
  {
   "cell_type": "code",
   "execution_count": 35,
   "metadata": {},
   "outputs": [
    {
     "data": {
      "text/plain": [
       "True"
      ]
     },
     "execution_count": 35,
     "metadata": {},
     "output_type": "execute_result"
    }
   ],
   "source": [
    "# Using 'return' to return a value\n",
    "def is_isbn(isbn):\n",
    "    if len (isbn) != 17:\n",
    "        return False\n",
    "    else:\n",
    "        return True\n",
    "       \n",
    "is_isbn('978-3-86226-468-5')\n"
   ]
  },
  {
   "cell_type": "code",
   "execution_count": 37,
   "metadata": {},
   "outputs": [
    {
     "name": "stdout",
     "output_type": "stream",
     "text": [
      "This is a proper ISBN\n"
     ]
    }
   ],
   "source": [
    "#Storinger the result of the functions in variable\n",
    "\n",
    "if is_isbn('978-3-86226-468-5'):\n",
    "    print(\"This is a proper ISBN\")"
   ]
  },
  {
   "cell_type": "code",
   "execution_count": 38,
   "metadata": {},
   "outputs": [
    {
     "data": {
      "text/plain": [
       "'BLUB'"
      ]
     },
     "execution_count": 38,
     "metadata": {},
     "output_type": "execute_result"
    }
   ],
   "source": [
    "my_string.upper()"
   ]
  },
  {
   "cell_type": "code",
   "execution_count": 39,
   "metadata": {},
   "outputs": [
    {
     "data": {
      "text/plain": [
       "1"
      ]
     },
     "execution_count": 39,
     "metadata": {},
     "output_type": "execute_result"
    }
   ],
   "source": [
    "my_string.count(\"B\")"
   ]
  },
  {
   "cell_type": "code",
   "execution_count": 58,
   "metadata": {},
   "outputs": [
    {
     "data": {
      "text/plain": [
       "True"
      ]
     },
     "execution_count": 58,
     "metadata": {},
     "output_type": "execute_result"
    }
   ],
   "source": [
    "# Aufgabe: es müssen 4 - dabei sein, sonst muss es falsch sein = Richtig\n",
    "def is_isbn(isbn):\n",
    "    if len (isbn) == 17 or is_isbn.count(\"-\") == 4:\n",
    "        return True\n",
    "    else:\n",
    "        return False\n",
    "        \n",
    "       \n",
    "is_isbn('978-3-86226-468-5')"
   ]
  },
  {
   "cell_type": "code",
   "execution_count": 44,
   "metadata": {},
   "outputs": [
    {
     "data": {
      "text/plain": [
       "'978-3-86226-468-5'"
      ]
     },
     "execution_count": 44,
     "metadata": {},
     "output_type": "execute_result"
    }
   ],
   "source": [
    "isbn_1"
   ]
  },
  {
   "cell_type": "code",
   "execution_count": 47,
   "metadata": {},
   "outputs": [
    {
     "data": {
      "text/plain": [
       "True"
      ]
     },
     "execution_count": 47,
     "metadata": {},
     "output_type": "execute_result"
    }
   ],
   "source": [
    "10 == 10 and 5 == 5"
   ]
  },
  {
   "cell_type": "code",
   "execution_count": 48,
   "metadata": {},
   "outputs": [
    {
     "data": {
      "text/plain": [
       "False"
      ]
     },
     "execution_count": 48,
     "metadata": {},
     "output_type": "execute_result"
    }
   ],
   "source": [
    "10 == 9 and 5 == 5"
   ]
  },
  {
   "cell_type": "code",
   "execution_count": 49,
   "metadata": {},
   "outputs": [
    {
     "data": {
      "text/plain": [
       "True"
      ]
     },
     "execution_count": 49,
     "metadata": {},
     "output_type": "execute_result"
    }
   ],
   "source": [
    "10 == 9 or 5 == 5"
   ]
  },
  {
   "cell_type": "code",
   "execution_count": 59,
   "metadata": {},
   "outputs": [
    {
     "data": {
      "text/plain": [
       "True"
      ]
     },
     "execution_count": 59,
     "metadata": {},
     "output_type": "execute_result"
    }
   ],
   "source": [
    "# Eine Lösung der Aufgabe\n",
    "def is_isbn(isbn):\n",
    "    if isbn.count(\"-\") !=4:\n",
    "        return False\n",
    "    if len (isbn) != 17:\n",
    "        return False\n",
    "    return True\n",
    "       \n",
    "is_isbn('978-3-86226-468-5')"
   ]
  },
  {
   "cell_type": "code",
   "execution_count": 60,
   "metadata": {},
   "outputs": [
    {
     "name": "stdout",
     "output_type": "stream",
     "text": [
      "9\n",
      "7\n",
      "8\n",
      "-\n",
      "3\n",
      "-\n",
      "8\n",
      "6\n",
      "2\n",
      "2\n",
      "6\n",
      "-\n",
      "4\n",
      "6\n",
      "8\n",
      "-\n",
      "5\n"
     ]
    }
   ],
   "source": [
    "#Strings können wie Listen behandelt werden\n",
    "for char in '978-3-86226-468-5':\n",
    "    print(char)"
   ]
  },
  {
   "cell_type": "code",
   "execution_count": null,
   "metadata": {},
   "outputs": [],
   "source": []
  },
  {
   "cell_type": "code",
   "execution_count": 63,
   "metadata": {},
   "outputs": [
    {
     "data": {
      "text/plain": [
       "True"
      ]
     },
     "execution_count": 63,
     "metadata": {},
     "output_type": "execute_result"
    }
   ],
   "source": [
    "# letztes Kriterium der ISBNS\n",
    "def is_isbn(isbn):\n",
    "    if isbn.count(\"-\") !=4:\n",
    "        return False\n",
    "    if len (isbn) != 17:\n",
    "        return False\n",
    "    for char in isbn:\n",
    "        if char == \"-\":\n",
    "            continue\n",
    "        if not char.isdigit():\n",
    "            return False\n",
    "    return True\n",
    "       \n",
    "is_isbn('978-3-86226-468-5')"
   ]
  },
  {
   "cell_type": "code",
   "execution_count": 64,
   "metadata": {},
   "outputs": [
    {
     "name": "stdout",
     "output_type": "stream",
     "text": [
      "978-3-86226-468-5 True\n",
      "AB-423-2343 False\n",
      "978-3-XXXXX-468-5 False\n"
     ]
    }
   ],
   "source": [
    "for isbn in potential_isbns:\n",
    "    print (isbn,is_isbn(isbn))"
   ]
  },
  {
   "cell_type": "code",
   "execution_count": null,
   "metadata": {},
   "outputs": [],
   "source": []
  }
 ],
 "metadata": {
  "kernelspec": {
   "display_name": "Python 3",
   "language": "python",
   "name": "python3"
  },
  "language_info": {
   "codemirror_mode": {
    "name": "ipython",
    "version": 3
   },
   "file_extension": ".py",
   "mimetype": "text/x-python",
   "name": "python",
   "nbconvert_exporter": "python",
   "pygments_lexer": "ipython3",
   "version": "3.8.5"
  }
 },
 "nbformat": 4,
 "nbformat_minor": 4
}
