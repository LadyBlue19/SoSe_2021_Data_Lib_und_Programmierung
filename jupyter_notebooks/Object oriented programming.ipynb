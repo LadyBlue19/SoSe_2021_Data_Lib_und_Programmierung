{
 "cells": [
  {
   "cell_type": "markdown",
   "metadata": {},
   "source": [
    "für besseres lesen ???\n",
    "Objekte sind insatnden von Klassen"
   ]
  },
  {
   "cell_type": "code",
   "execution_count": 1,
   "metadata": {},
   "outputs": [],
   "source": [
    "class Book():\n",
    "    pass\n",
    "\n",
    "book_1 = Book()"
   ]
  },
  {
   "cell_type": "code",
   "execution_count": 2,
   "metadata": {},
   "outputs": [
    {
     "data": {
      "text/plain": [
       "__main__.Book"
      ]
     },
     "execution_count": 2,
     "metadata": {},
     "output_type": "execute_result"
    }
   ],
   "source": [
    "type(book_1) "
   ]
  },
  {
   "cell_type": "code",
   "execution_count": 23,
   "metadata": {},
   "outputs": [
    {
     "name": "stdout",
     "output_type": "stream",
     "text": [
      "New Book created\n"
     ]
    }
   ],
   "source": [
    "# the function/method ___init___ is called when a new instance of the class book is genereted\n",
    "# self represnts the objects itself\n",
    "class Book():\n",
    "    \n",
    "    def __init__ (self):\n",
    "        print(\"New Book created\")\n",
    "    \n",
    "book_1 = Book()"
   ]
  },
  {
   "cell_type": "code",
   "execution_count": 10,
   "metadata": {},
   "outputs": [
    {
     "name": "stdout",
     "output_type": "stream",
     "text": [
      "Microbiology 101\n"
     ]
    }
   ],
   "source": [
    "class Book():\n",
    "    \n",
    "    def __init__ (self, title):\n",
    "       #setting an attribut\n",
    "        self.title = title\n",
    "    \n",
    "book_1 = Book(\"Microbiology 101\")\n",
    "print(book_1.title)"
   ]
  },
  {
   "cell_type": "code",
   "execution_count": 13,
   "metadata": {},
   "outputs": [
    {
     "name": "stdout",
     "output_type": "stream",
     "text": [
      "Book title: Microbiology 101\n"
     ]
    }
   ],
   "source": [
    "class Book():\n",
    "    \n",
    "    def __init__ (self, title):\n",
    "       #setting an attribut\n",
    "        self.title = title\n",
    "        self.order_status = \"available\"\n",
    "    \n",
    "    def tell_title(self):\n",
    "        print (\"Book title: \" + self.title)\n",
    "        \n",
    "book_1 = Book(\"Microbiology 101\")\n",
    "book_1.tell_title()"
   ]
  },
  {
   "cell_type": "code",
   "execution_count": 16,
   "metadata": {},
   "outputs": [
    {
     "name": "stdout",
     "output_type": "stream",
     "text": [
      "Book title: Microbiology 101\n",
      "Order statusavailable\n",
      "Order statusordered\n"
     ]
    }
   ],
   "source": [
    "class Book():\n",
    "    \n",
    "    def __init__ (self, title):\n",
    "       #setting an attribut\n",
    "        self.title = title\n",
    "        self.order_status = \"available\"\n",
    "    \n",
    "    def tell_title(self):\n",
    "        print (\"Book title: \" + self.title)\n",
    "     \n",
    "    def tell_order_status(self):\n",
    "        print (\"Order status\" + self.order_status)\n",
    "        \n",
    "    def order(self):\n",
    "        self.order_status = \"ordered\"\n",
    "\n",
    "book_1 = Book(\"Microbiology 101\")\n",
    "book_1.tell_title()\n",
    "book_1.tell_order_status()\n",
    "book_1.order()\n",
    "book_1.tell_order_status()"
   ]
  },
  {
   "cell_type": "code",
   "execution_count": 22,
   "metadata": {},
   "outputs": [
    {
     "name": "stdout",
     "output_type": "stream",
     "text": [
      "Book title: Microbiology 101\n",
      "Order statusavailable\n",
      "Order statusordered\n",
      "Order statusavailable\n"
     ]
    }
   ],
   "source": [
    "class Book():\n",
    "    \n",
    "    def __init__ (self, title):\n",
    "       #setting an attribut\n",
    "        self.title = title\n",
    "        self.order_status = \"available\"\n",
    "    \n",
    "    def tell_title(self):\n",
    "        print (\"Book title: \" + self.title)\n",
    "     \n",
    "    def tell_order_status(self):\n",
    "        print (\"Order status\" + self.order_status)\n",
    "        \n",
    "    def order(self):\n",
    "        self.order_status = \"ordered\"\n",
    "        \n",
    "    \n",
    "    def return_items(self):\n",
    "        self.order_status = \"available\"\n",
    "\n",
    "book_1 = Book(\"Microbiology 101\")\n",
    "book_1.tell_title()\n",
    "book_1.tell_order_status()\n",
    "book_1.order()\n",
    "book_1.tell_order_status()\n",
    "book_1.return_items()\n",
    "book_1.tell_order_status()"
   ]
  },
  {
   "cell_type": "code",
   "execution_count": null,
   "metadata": {},
   "outputs": [],
   "source": []
  }
 ],
 "metadata": {
  "kernelspec": {
   "display_name": "Python 3",
   "language": "python",
   "name": "python3"
  },
  "language_info": {
   "codemirror_mode": {
    "name": "ipython",
    "version": 3
   },
   "file_extension": ".py",
   "mimetype": "text/x-python",
   "name": "python",
   "nbconvert_exporter": "python",
   "pygments_lexer": "ipython3",
   "version": "3.8.5"
  }
 },
 "nbformat": 4,
 "nbformat_minor": 4
}
